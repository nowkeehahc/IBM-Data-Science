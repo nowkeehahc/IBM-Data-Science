{
 "cells": [
  {
   "cell_type": "markdown",
   "id": "b7990110",
   "metadata": {},
   "source": [
    "# Assignment"
   ]
  },
  {
   "cell_type": "markdown",
   "id": "4ebaaa41",
   "metadata": {},
   "source": [
    "## Tool for Data Science"
   ]
  },
  {
   "cell_type": "markdown",
   "id": "dd075da4",
   "metadata": {},
   "source": [
    "### List data science languages\n",
    "- Python\n",
    "- R\n",
    "- SQL\n",
    "- MATLAB\n",
    "- Java\n",
    "- Scala\n",
    "- Julia\n",
    "- SAS\n",
    "- Perl\n",
    "- C/C++"
   ]
  },
  {
   "cell_type": "markdown",
   "id": "2c6eaa08",
   "metadata": {},
   "source": [
    "### Data Science Libraries:\n",
    "- Pandas\n",
    "- NumPy\n",
    "- Scikit-learn\n",
    "- TensorFlow\n",
    "- Keras\n",
    "- PyTorch\n",
    "- Matplotlib\n",
    "- Seaborn\n",
    "- Plotly\n",
    "- ggplot"
   ]
  },
  {
   "cell_type": "markdown",
   "id": "beb38186",
   "metadata": {},
   "source": [
    "### Data Science Tools:\n",
    "\n",
    "- Data Collection:\tSelenium, BeautifulSoup, Scrapy, Apache Nutch\n",
    "- Data Processingㅖ:\tApache Spark, Dask, Apache Beam\n",
    "- Data Storage:\tMySQL, PostgreSQL, MongoDB, Cassandra, Redis\n",
    "- Data Visualization:\tTableau, PowerBI, QlikView, SAP Lumira, IBM Cognos\n",
    "- Data Modeling:\tIBM SPSS, SAS, RapidMiner, Weka, Apache Mahout"
   ]
  },
  {
   "cell_type": "markdown",
   "id": "97964c8c",
   "metadata": {},
   "source": [
    "### Introduction to Arithmetic Expression Examples"
   ]
  },
  {
   "cell_type": "code",
   "execution_count": 1,
   "id": "889cd2d6",
   "metadata": {},
   "outputs": [
    {
     "name": "stdout",
     "output_type": "stream",
     "text": [
      "*: 50\n",
      "+: 15\n"
     ]
    }
   ],
   "source": [
    "a = 5\n",
    "b = 10\n",
    "c = a * b\n",
    "d = a + b\n",
    "print(\"*:\", c)\n",
    "print(\"+:\", d)"
   ]
  },
  {
   "cell_type": "code",
   "execution_count": 2,
   "id": "a74248c5",
   "metadata": {},
   "outputs": [
    {
     "name": "stdout",
     "output_type": "stream",
     "text": [
      "120 2.0\n"
     ]
    }
   ],
   "source": [
    "minutes = 120\n",
    "hours = minutes / 60\n",
    "print(minutes, hours,)"
   ]
  },
  {
   "cell_type": "markdown",
   "id": "d5c4fd64",
   "metadata": {},
   "source": [
    "### I want to complete this program and become a great data scientist"
   ]
  },
  {
   "cell_type": "markdown",
   "id": "2ecfcf61",
   "metadata": {},
   "source": [
    "### by Heekwon Cha"
   ]
  }
 ],
 "metadata": {
  "kernelspec": {
   "display_name": "Python 3 (ipykernel)",
   "language": "python",
   "name": "python3"
  },
  "language_info": {
   "codemirror_mode": {
    "name": "ipython",
    "version": 3
   },
   "file_extension": ".py",
   "mimetype": "text/x-python",
   "name": "python",
   "nbconvert_exporter": "python",
   "pygments_lexer": "ipython3",
   "version": "3.9.13"
  }
 },
 "nbformat": 4,
 "nbformat_minor": 5
}
