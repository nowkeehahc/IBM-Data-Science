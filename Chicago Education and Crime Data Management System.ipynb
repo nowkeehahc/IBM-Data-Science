{
 "cells": [
  {
   "cell_type": "markdown",
   "id": "c45c30b6",
   "metadata": {},
   "source": [
    "# Chicago Education and Crime Data Management System"
   ]
  },
  {
   "cell_type": "code",
   "execution_count": 32,
   "id": "c23c6bdc",
   "metadata": {},
   "outputs": [
    {
     "name": "stdout",
     "output_type": "stream",
     "text": [
      "The sql extension is already loaded. To reload it, use:\n",
      "  %reload_ext sql\n"
     ]
    }
   ],
   "source": [
    "import pandas as pd\n",
    "import sqlite3\n",
    "\n",
    "census_data = pd.read_csv('ChicagoCensusData.csv')\n",
    "public_schools = pd.read_csv('ChicagoPublicSchools.csv')\n",
    "crime_data = pd.read_csv('ChicagoCrimeData.csv')\n",
    "\n",
    "conn = sqlite3.connect('FinalDB.db')\n",
    "\n",
    "census_data.to_sql('CENSUS_DATA', conn, if_exists='replace', index=False)\n",
    "public_schools.to_sql('CHICAGO_PUBLIC_SCHOOLS', conn, if_exists='replace', index=False)\n",
    "crime_data.to_sql('CHICAGO_CRIME_DATA', conn, if_exists='replace', index=False)\n",
    "\n",
    "%load_ext sql\n",
    "%sql sqlite:///FinalDB.db"
   ]
  },
  {
   "cell_type": "markdown",
   "id": "8e3e4264",
   "metadata": {},
   "source": [
    "### Exercise 1, Question 1: \n",
    "\n",
    "Write and execute a SQL query to list the school names, community names and average attendance for communities with a hardship index of 98. "
   ]
  },
  {
   "cell_type": "code",
   "execution_count": 13,
   "id": "9537815f",
   "metadata": {},
   "outputs": [
    {
     "name": "stdout",
     "output_type": "stream",
     "text": [
      " * sqlite:///FinalDB.db\n",
      "Done.\n"
     ]
    },
    {
     "data": {
      "text/html": [
       "<table>\n",
       "    <thead>\n",
       "        <tr>\n",
       "            <th>NAME_OF_SCHOOL</th>\n",
       "            <th>COMMUNITY_AREA_NAME</th>\n",
       "            <th>AVG_ATTENDANCE</th>\n",
       "        </tr>\n",
       "    </thead>\n",
       "    <tbody>\n",
       "        <tr>\n",
       "            <td>George Washington Carver Military Academy High School</td>\n",
       "            <td>Riverdale</td>\n",
       "            <td>91.6</td>\n",
       "        </tr>\n",
       "        <tr>\n",
       "            <td>George Washington Carver Primary School</td>\n",
       "            <td>Riverdale</td>\n",
       "            <td>90.9</td>\n",
       "        </tr>\n",
       "        <tr>\n",
       "            <td>Ira F Aldridge Elementary School</td>\n",
       "            <td>Riverdale</td>\n",
       "            <td>92.9</td>\n",
       "        </tr>\n",
       "        <tr>\n",
       "            <td>William E B Dubois Elementary School</td>\n",
       "            <td>Riverdale</td>\n",
       "            <td>93.3</td>\n",
       "        </tr>\n",
       "    </tbody>\n",
       "</table>"
      ],
      "text/plain": [
       "[('George Washington Carver Military Academy High School', 'Riverdale', 91.6),\n",
       " ('George Washington Carver Primary School', 'Riverdale', 90.9),\n",
       " ('Ira F Aldridge Elementary School', 'Riverdale', 92.9),\n",
       " ('William E B Dubois Elementary School', 'Riverdale', 93.3)]"
      ]
     },
     "execution_count": 13,
     "metadata": {},
     "output_type": "execute_result"
    }
   ],
   "source": [
    "%%sql\n",
    "SELECT cps.NAME_OF_SCHOOL, census.COMMUNITY_AREA_NAME, AVG(cps.AVERAGE_STUDENT_ATTENDANCE) AS AVG_ATTENDANCE \n",
    "FROM CENSUS_DATA census\n",
    "JOIN CHICAGO_PUBLIC_SCHOOLS cps ON census.COMMUNITY_AREA_NUMBER = cps.COMMUNITY_AREA_NUMBER\n",
    "WHERE census.HARDSHIP_INDEX = 98\n",
    "GROUP BY cps.NAME_OF_SCHOOL, census.COMMUNITY_AREA_NAME;"
   ]
  },
  {
   "cell_type": "markdown",
   "id": "bc7c8b7b",
   "metadata": {},
   "source": [
    "### Exercise 1, Question 2: \n",
    "\n",
    "Write and execute a SQL query to list all crimes that took place at a school. Include case number, crime type and community name."
   ]
  },
  {
   "cell_type": "code",
   "execution_count": 25,
   "id": "d41ea2b4",
   "metadata": {},
   "outputs": [
    {
     "name": "stdout",
     "output_type": "stream",
     "text": [
      " * sqlite:///FinalDB.db\n",
      "Done.\n"
     ]
    },
    {
     "data": {
      "text/html": [
       "<table>\n",
       "    <thead>\n",
       "        <tr>\n",
       "            <th>CASE_NUMBER</th>\n",
       "            <th>PRIMARY_TYPE</th>\n",
       "            <th>COMMUNITY_AREA_NAME</th>\n",
       "        </tr>\n",
       "    </thead>\n",
       "    <tbody>\n",
       "    </tbody>\n",
       "</table>"
      ],
      "text/plain": [
       "[]"
      ]
     },
     "execution_count": 25,
     "metadata": {},
     "output_type": "execute_result"
    }
   ],
   "source": [
    "%%sql\n",
    "SELECT c.CASE_NUMBER, c.PRIMARY_TYPE, cd.COMMUNITY_AREA_NAME\n",
    "FROM CHICAGO_CRIME_DATA c\n",
    "JOIN CHICAGO_PUBLIC_SCHOOLS cps ON c.BLOCK LIKE '%' || cps.STREET_ADDRESS || '%'\n",
    "JOIN CENSUS_DATA cd ON cps.COMMUNITY_AREA_NUMBER = cd.COMMUNITY_AREA_NUMBER\n",
    "WHERE c.BLOCK LIKE '%' || 'SCHOOL' || '%' OR c.BLOCK LIKE '%' || 'HS' || '%'"
   ]
  },
  {
   "cell_type": "markdown",
   "id": "e6d18cba",
   "metadata": {},
   "source": [
    "### Exercise 2, Question 1:\n",
    "Write and execute a SQL statement that returns just the school name and leaders’ icon from the view."
   ]
  },
  {
   "cell_type": "code",
   "execution_count": 37,
   "id": "285df7ac",
   "metadata": {},
   "outputs": [
    {
     "name": "stdout",
     "output_type": "stream",
     "text": [
      " * sqlite:///FinalDB.db\n",
      "(sqlite3.OperationalError) no such table: CPS_SCHOOLS_WITH_LEADERS\n",
      "[SQL: SELECT SCHOOL_NAME, LEADERS_ICON\n",
      "FROM CPS_SCHOOLS_WITH_LEADERS;]\n",
      "(Background on this error at: https://sqlalche.me/e/20/e3q8)\n"
     ]
    }
   ],
   "source": [
    "%%sql\n",
    "SELECT SCHOOL_NAME, LEADERS_ICON\n",
    "FROM CPS_SCHOOLS_WITH_LEADERS;"
   ]
  },
  {
   "cell_type": "markdown",
   "id": "f114e5dd",
   "metadata": {},
   "source": [
    "### Exercise 3, Question 1: \n",
    "\n",
    "Write the structure of a query to create or replace a stored procedure called UPDATE_LEADERS_SCORE that takes a in_School_ID parameter as an integer and a in_Leader_Score parameter as an integer. Don't forget to use the #SET TERMINATOR statement to use the @ for the CREATE statement terminator. "
   ]
  },
  {
   "cell_type": "code",
   "execution_count": 38,
   "id": "1c3bb691",
   "metadata": {},
   "outputs": [
    {
     "name": "stdout",
     "output_type": "stream",
     "text": [
      " * sqlite:///FinalDB.db\n",
      "(sqlite3.OperationalError) near \"#SET\": syntax error\n",
      "[SQL: #SET TERMINATOR @\n",
      "\n",
      "CREATE OR REPLACE PROCEDURE UPDATE_LEADERS_SCORE (\n",
      "    IN in_School_ID INTEGER,\n",
      "    IN in_Leader_Score INTEGER\n",
      ")\n",
      "BEGIN\n",
      "    -- SQL statement to update Leaders_Score field\n",
      "END\n",
      "@]\n",
      "(Background on this error at: https://sqlalche.me/e/20/e3q8)\n"
     ]
    }
   ],
   "source": [
    "%%sql\n",
    "#SET TERMINATOR @\n",
    "\n",
    "CREATE OR REPLACE PROCEDURE UPDATE_LEADERS_SCORE (IN in_School_ID INT, IN in_Leader_Score INT)\n",
    "BEGIN\n",
    "    -- code to update the Leaders_Score field\n",
    "END\n",
    "@"
   ]
  },
  {
   "cell_type": "markdown",
   "id": "eec30fda",
   "metadata": {},
   "source": [
    "### Exercise 3, Question 2: \n",
    "\n",
    "Inside your stored procedure, write a SQL statement to update the Leaders_Score field in the CHICAGO_PUBLIC_SCHOOLS table for the school identified by in_School_ID to the value in the in_Leader_Score parameter. "
   ]
  },
  {
   "cell_type": "code",
   "execution_count": 41,
   "id": "a74a4de4",
   "metadata": {},
   "outputs": [
    {
     "name": "stdout",
     "output_type": "stream",
     "text": [
      " * sqlite:///FinalDB.db\n",
      "(sqlite3.OperationalError) near \"#SET\": syntax error\n",
      "[SQL: #SET TERMINATOR ;]\n",
      "(Background on this error at: https://sqlalche.me/e/20/e3q8)\n"
     ]
    }
   ],
   "source": [
    "%%sql\n",
    "--#SET TERMINATOR @\n",
    "\n",
    "CREATE OR REPLACE PROCEDURE UPDATE_LEADERS_SCORE (IN in_School_ID INTEGER, IN in_Leader_Score INTEGER)\n",
    "  LANGUAGE SQL\n",
    "  \n",
    "\tBEGIN \n",
    "\t\n",
    "\t\tUPDATE CHICAGO_PUBLIC_SCHOOLS\n",
    "\t\tSET \"Leaders_Score\" = in_Leader_Score\n",
    "\t\t\tWHERE \"School_ID\" = in_School_ID;\n",
    "\t\t\t\n",
    "\tEND@"
   ]
  },
  {
   "cell_type": "markdown",
   "id": "142207e9",
   "metadata": {},
   "source": [
    "### Exercise 3, Question 3: \n",
    "\n",
    "Inside your stored procedure, write a SQL IF statement to update the Leaders_Icon field in the CHICAGO_PUBLIC_SCHOOLS table for the school identified by in_School_ID using the following information. "
   ]
  },
  {
   "cell_type": "code",
   "execution_count": 42,
   "id": "a56627af",
   "metadata": {},
   "outputs": [
    {
     "name": "stdout",
     "output_type": "stream",
     "text": [
      " * sqlite:///FinalDB.db\n",
      "(sqlite3.OperationalError) near \"IF\": syntax error\n",
      "[SQL: IF in_Leader_Score >= 0 AND in_Leader_Score < 20 THEN\n",
      "    UPDATE CHICAGO_PUBLIC_SCHOOLS SET Leaders_Icon = 'very weak' WHERE SCHOOL_ID = in_School_ID;]\n",
      "(Background on this error at: https://sqlalche.me/e/20/e3q8)\n"
     ]
    }
   ],
   "source": [
    "%%sql\n",
    "CREATE OR REPLACE PROCEDURE UPDATE_LEADERS_SCORE (IN in_School_ID INTEGER, IN in_Leader_Score INTEGER)\n",
    "  LANGUAGE SQL\n",
    "  \n",
    "\tBEGIN \n",
    "\n",
    "\t\tUPDATE CHICAGO_PUBLIC_SCHOOLS\n",
    "\t\tSET \"Leaders_Score\" = in_Leader_Score\n",
    "\t\t\tWHERE \"School_ID\" = in_School_ID;\n",
    "\t\t\t\n",
    "\t\tIF in_Leader_Score > 0 AND in_Leader_Score < 20 THEN\n",
    "\t      \tUPDATE CHICAGO_PUBLIC_SCHOOLS\n",
    "\t\t\t\tSET \"Leaders_Icon\" = 'Very Weak';\n",
    "\t    ELSEIF in_Leader_Score < 40 THEN\n",
    "\t       \tUPDATE CHICAGO_PUBLIC_SCHOOLS\n",
    "\t\t\t\tSET \"Leaders_Icon\" = 'Weak';\t\n",
    "\t    ELSEIF in_Leader_Score < 60 THEN\n",
    "\t       \tUPDATE CHICAGO_PUBLIC_SCHOOLS\n",
    "\t\t\t\tSET \"Leaders_Icon\" = 'Average';\n",
    "\t    ELSEIF in_Leader_Score < 80 THEN\n",
    "\t       \tUPDATE CHICAGO_PUBLIC_SCHOOLS\n",
    "\t\t\t\tSET \"Leaders_Icon\" = 'Strong';\n",
    "\t    ELSEIF in_Leader_Score < 100 THEN\n",
    "\t       \tUPDATE CHICAGO_PUBLIC_SCHOOLS\n",
    "\t\t\t\tSET \"Leaders_Icon\" = 'Very Strong';\n",
    "\t   \tEND IF;\n",
    "\t\t\n",
    "\tEND@"
   ]
  },
  {
   "cell_type": "markdown",
   "id": "eb2698b6",
   "metadata": {},
   "source": [
    "### Exercise 3, Question 4: \n",
    "\n",
    "Run your code to create the stored procedure."
   ]
  },
  {
   "cell_type": "code",
   "execution_count": 43,
   "id": "69cae96e",
   "metadata": {},
   "outputs": [
    {
     "name": "stdout",
     "output_type": "stream",
     "text": [
      " * sqlite:///FinalDB.db\n",
      "(sqlite3.OperationalError) near \"CALL\": syntax error\n",
      "[SQL: CALL UPDATE_LEADERS_SCORE(1234, 75);]\n",
      "(Background on this error at: https://sqlalche.me/e/20/e3q8)\n"
     ]
    }
   ],
   "source": [
    "%%sql\n",
    "CREATE OR REPLACE PROCEDURE UPDATE_LEADERS_SCORE (IN in_School_ID INTEGER, IN in_Leader_Score INTEGER)\n",
    "  LANGUAGE SQL\n",
    "  \n",
    "\tBEGIN \n",
    "\n",
    "\t\tUPDATE CHICAGO_PUBLIC_SCHOOLS\n",
    "\t\tSET \"Leaders_Score\" = in_Leader_Score\n",
    "\t\t\tWHERE \"School_ID\" = in_School_ID;\n",
    "\t\t\t\n",
    "\t\tIF in_Leader_Score > 0 AND in_Leader_Score < 20 THEN\n",
    "\t      \tUPDATE CHICAGO_PUBLIC_SCHOOLS\n",
    "\t\t\t\tSET \"Leaders_Icon\" = 'Very Weak';\n",
    "\t    ELSEIF in_Leader_Score < 40 THEN\n",
    "\t       \tUPDATE CHICAGO_PUBLIC_SCHOOLS\n",
    "\t\t\t\tSET \"Leaders_Icon\" = 'Weak';\t\n",
    "\t    ELSEIF in_Leader_Score < 60 THEN\n",
    "\t       \tUPDATE CHICAGO_PUBLIC_SCHOOLS\n",
    "\t\t\t\tSET \"Leaders_Icon\" = 'Average';\n",
    "\t    ELSEIF in_Leader_Score < 80 THEN\n",
    "\t       \tUPDATE CHICAGO_PUBLIC_SCHOOLS\n",
    "\t\t\t\tSET \"Leaders_Icon\" = 'Strong';\n",
    "\t    ELSEIF in_Leader_Score < 100 THEN\n",
    "\t       \tUPDATE CHICAGO_PUBLIC_SCHOOLS\n",
    "\t\t\t\tSET \"Leaders_Icon\" = 'Very Strong';\n",
    "\t   \tEND IF;\n",
    "\t\t\n",
    "\tEND@"
   ]
  },
  {
   "cell_type": "markdown",
   "id": "bb6713fa",
   "metadata": {},
   "source": [
    "### Exercise 4, Question 1: \n",
    "\n",
    "Update your stored procedure definition. Add a generic ELSE clause to the IF statement that rolls back the current work if the score did not fit any of the preceding categories. "
   ]
  },
  {
   "cell_type": "code",
   "execution_count": 44,
   "id": "96229bbd",
   "metadata": {},
   "outputs": [
    {
     "name": "stdout",
     "output_type": "stream",
     "text": [
      " * sqlite:///FinalDB.db\n",
      "(sqlite3.OperationalError) near \"PROCEDURE\": syntax error\n",
      "[SQL: CREATE PROCEDURE score_classifier(score float)\n",
      "BEGIN\n",
      "\tIF score >= 0 AND score < 50 THEN\n",
      "\t\tUPDATE scores SET class = 'Low' WHERE score = score_id;\n",
      "\tELSEIF score >= 50 AND score < 80 THEN\n",
      "\t\tUPDATE scores SET class = 'Medium' WHERE score = score_id;\n",
      "\tELSEIF score >= 80 AND score <= 100 THEN\n",
      "\t\tUPDATE scores SET class = 'High' WHERE score = score_id;\n",
      "\tELSE\n",
      "\t\tROLLBACK;\n",
      "\tEND IF;\n",
      "END;]\n",
      "(Background on this error at: https://sqlalche.me/e/20/e3q8)\n"
     ]
    }
   ],
   "source": [
    "%%sql\n",
    "CREATE PROCEDURE score_classifier(score float)\n",
    "BEGIN\n",
    "\tIF score >= 0 AND score < 50 THEN\n",
    "\t\tUPDATE scores SET class = 'Low' WHERE score = score_id;\n",
    "\tELSEIF score >= 50 AND score < 80 THEN\n",
    "\t\tUPDATE scores SET class = 'Medium' WHERE score = score_id;\n",
    "\tELSEIF score >= 80 AND score <= 100 THEN\n",
    "\t\tUPDATE scores SET class = 'High' WHERE score = score_id;\n",
    "\tELSE\n",
    "\t\tROLLBACK;\n",
    "\tEND IF;\n",
    "END;"
   ]
  },
  {
   "cell_type": "markdown",
   "id": "a134613c",
   "metadata": {},
   "source": [
    "### Exercise 4, Question 2: \n",
    "\n",
    "Update your stored procedure definition again. Add a statement to commit the current unit of work at the end of the procedure. "
   ]
  },
  {
   "cell_type": "code",
   "execution_count": 45,
   "id": "5ec91dce",
   "metadata": {},
   "outputs": [
    {
     "name": "stdout",
     "output_type": "stream",
     "text": [
      " * sqlite:///FinalDB.db\n",
      "(sqlite3.OperationalError) near \"PROCEDURE\": syntax error\n",
      "[SQL: CREATE PROCEDURE score_classifier(score float)\n",
      "BEGIN\n",
      "\tIF score >= 0 AND score < 50 THEN\n",
      "\t\tUPDATE scores SET class = 'Low' WHERE score = score_id;\n",
      "\tELSEIF score >= 50 AND score < 80 THEN\n",
      "\t\tUPDATE scores SET class = 'Medium' WHERE score = score_id;\n",
      "\tELSEIF score >= 80 AND score <= 100 THEN\n",
      "\t\tUPDATE scores SET class = 'High' WHERE score = score_id;\n",
      "\tELSE\n",
      "\t\tROLLBACK;\n",
      "\tEND IF;\n",
      "\t\n",
      "\tCOMMIT;\n",
      "END;]\n",
      "(Background on this error at: https://sqlalche.me/e/20/e3q8)\n"
     ]
    }
   ],
   "source": [
    "%%sql\n",
    "CREATE PROCEDURE score_classifier(score float)\n",
    "BEGIN\n",
    "\tIF score >= 0 AND score < 50 THEN\n",
    "\t\tUPDATE scores SET class = 'Low' WHERE score = score_id;\n",
    "\tELSEIF score >= 50 AND score < 80 THEN\n",
    "\t\tUPDATE scores SET class = 'Medium' WHERE score = score_id;\n",
    "\tELSEIF score >= 80 AND score <= 100 THEN\n",
    "\t\tUPDATE scores SET class = 'High' WHERE score = score_id;\n",
    "\tELSE\n",
    "\t\tROLLBACK;\n",
    "\tEND IF;\n",
    "\t\n",
    "\tCOMMIT;\n",
    "END;\n"
   ]
  },
  {
   "cell_type": "code",
   "execution_count": null,
   "id": "ef339f40",
   "metadata": {},
   "outputs": [],
   "source": []
  }
 ],
 "metadata": {
  "kernelspec": {
   "display_name": "Python 3 (ipykernel)",
   "language": "python",
   "name": "python3"
  },
  "language_info": {
   "codemirror_mode": {
    "name": "ipython",
    "version": 3
   },
   "file_extension": ".py",
   "mimetype": "text/x-python",
   "name": "python",
   "nbconvert_exporter": "python",
   "pygments_lexer": "ipython3",
   "version": "3.9.13"
  }
 },
 "nbformat": 4,
 "nbformat_minor": 5
}
